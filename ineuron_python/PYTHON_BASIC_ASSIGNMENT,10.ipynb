{
  "nbformat": 4,
  "nbformat_minor": 0,
  "metadata": {
    "colab": {
      "name": "PYTHON BASIC ASSIGNMENT,10.ipynb",
      "provenance": [],
      "collapsed_sections": []
    },
    "kernelspec": {
      "name": "python3",
      "display_name": "Python 3"
    },
    "language_info": {
      "name": "python"
    }
  },
  "cells": [
    {
      "cell_type": "markdown",
      "source": [
        "**SHUBHAM KUMAR CHATURVEDI (PYTHON BASIC ASSIGNMENT,10)**"
      ],
      "metadata": {
        "id": "aHARV70JXTPn"
      }
    },
    {
      "cell_type": "markdown",
      "source": [
        "Q1. How do you distinguish between shutil.copy() and shutil.copytree()?\n",
        "\n",
        "ANS - shutil. copy() will copy a single file, shutil. copytree() will copy an entire folder and every folder and file contained in it.\n",
        "\n",
        "Q2. What function is used to rename files?\n",
        "\n",
        "ANS- rename() function is used to change the name of the file or directory.\n",
        "\n",
        "Q3. What is the difference between the delete functions in the send2trash and shutil modules?\n",
        "\n",
        "ANS - The send2trash functions will move a file or folder to the recycle bin, while shutil functions will permanently delete files and folders.\n",
        "\n",
        "Q4.ZipFile objects have a close() method just like File objects’ close() method. What ZipFile method is equivalent to File objects’ open() method?\n",
        "\n",
        "ANS - This method is equivalent to calling the Open method and setting the mode parameter to Read.\n",
        "\n",
        "Q5. Create a programme that searches a folder tree for files with a certain file extension (such as .pdf or .jpg). Copy these files from whatever location they are in to a new folder.\n",
        "\n",
        "ANS -"
      ],
      "metadata": {
        "id": "AO2s4WMYWNyg"
      }
    },
    {
      "cell_type": "code",
      "execution_count": 6,
      "metadata": {
        "colab": {
          "base_uri": "https://localhost:8080/"
        },
        "id": "fwdd6F_oV61g",
        "outputId": "a018576a-f218-47f0-867f-d8f301bbc478"
      },
      "outputs": [
        {
          "output_type": "stream",
          "name": "stdout",
          "text": [
            "Current Working Directory  /content\n",
            "/content/drive/MyDrive/DS1/Python/Documents\\Letsobe\n",
            "/content/drive/MyDrive/DS1/Python/Desktop\n",
            "Looking in /content/drive/MyDrive/DS1/Python/Documents\\Letsobe for files with extensions of  .py,.txt\n"
          ]
        }
      ],
      "source": [
        "import shutil,os\n",
        "\n",
        "def selectiveCopy(folder,extensions,deFolder):\n",
        "    folder=os.path.abspath(folder)\n",
        "    print(folder)\n",
        "    deFolder=os.path.abspath(deFolder)\n",
        "    print(deFolder)\n",
        "    print('Looking in '+ folder+ ' for files with extensions of ', ','.join(extensions))\n",
        "    for foldername,subfolders,filenames in os.walk(folder):\n",
        "        print(\"***\",foldername, \"**\", subfolders , \"*\",filenames)\n",
        "        for file in filenames:\n",
        "            name, extension = os.path.splitext(file)\n",
        "            if extension in extensions:\n",
        "                fileAbsPath = foldername + os.path.sep + file\n",
        "                print('Coping', fileAbsPath, 'to', deFolder)\n",
        "                shutil.copy(fileAbsPath, deFolder)\n",
        "    \n",
        "\n",
        "\n",
        "print(\"Current Working Directory \" , os.getcwd())\n",
        "os.chdir(\"/content/drive/MyDrive/DS1/Python\")\n",
        "extensions=['.py','.txt']\n",
        "folder='Documents\\\\Letsobe'\n",
        "deFolder='Desktop'\n",
        "selectiveCopy(folder, extensions, deFolder)\n"
      ]
    }
  ]
}