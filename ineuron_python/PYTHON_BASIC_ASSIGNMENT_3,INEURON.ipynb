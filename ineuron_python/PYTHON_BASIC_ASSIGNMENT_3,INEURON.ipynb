{
  "nbformat": 4,
  "nbformat_minor": 0,
  "metadata": {
    "colab": {
      "name": "PYTHON BASIC ASSIGNMENT 3,INEURON.ipynb",
      "provenance": [],
      "collapsed_sections": []
    },
    "kernelspec": {
      "name": "python3",
      "display_name": "Python 3"
    },
    "language_info": {
      "name": "python"
    }
  },
  "cells": [
    {
      "cell_type": "markdown",
      "source": [
        "**SHUBHAM KUMAR CHATURVEDI (PYTHON BASIC ASSIGNMENT 3,INEURON)**"
      ],
      "metadata": {
        "id": "cC4s7gSimtWi"
      }
    },
    {
      "cell_type": "markdown",
      "source": [
        "Q1. Why are functions advantageous to have in your programs?\n",
        "\n",
        "ANS-This makes programs shorter, easier to read, and easier to update.\n",
        "\n",
        "Q2. When does the code in a function run: when it's specified or when it's called?\n",
        "\n",
        "ANS- When a function is \"called\" the program \"leaves\" the current section of code and begins to execute the first line inside the function. \n",
        "The program comes to a line of code containing a \"function call\".\n",
        "The program enters the function (starts at the first line in the function code).\n",
        "All instructions inside of the function are executed from top to bottom.\n",
        "The program leaves the function and goes back to where it started from.\n",
        "\n",
        "Q3. What statement creates a function?\n",
        "\n",
        "ANS-The “def” keyword is a statement for defining a function in Python.\n",
        "\n",
        "Q4. What is the difference between a function and a function call?\n",
        "\n",
        "ANS- the difference between the function and function call is, A function is procedure to achieve a particular result while function call is using this function to achieve that task. Unless a function is called there is no use of that function.\n",
        "\n",
        "Q5. How many global scopes are there in a Python program? How many local scopes?\n",
        "\n",
        "ANS- A global variable exists only once in a script. A local variable can even exist multiple times simultaneously.\n",
        "\n",
        "Q6. What happens to variables in a local scope when the function call returns?\n",
        "\n",
        "ANS- When the execution of the function terminates (returns), the local variables are destroyed.\n",
        "\n",
        "Q7. What is the concept of a return value? Is it possible to have a return value in an expression?\n",
        "\n",
        "ANS- A return statement is used to end the execution of the function call and “returns”. If the return statement is without any expression, then the special value None is returned.\n",
        "\n",
        "Q8. If a function does not have a return statement, what is the return value of a call to that function?\n",
        "\n",
        "ANS-the return value of the function is undefined. If no return statement appears in a function definition.\n",
        "\n",
        "Q9. How do you make a function variable refer to the global variable?\n",
        "\n",
        "ANS- global†keyword, If function has a local variable with same name as global variable otherwise use normally.\n",
        "\n",
        "Q10. What is the data type of None?\n",
        "\n",
        "ANS- None is a data type of its own (NoneType) and only None can be None NOT 0 OR empty.\n",
        "\n",
        "Q11. What does the sentence import areallyourpetsnamederic do?\n",
        "\n",
        "ANS- That import statement imports a module named areallyourpetsnamederic.\n",
        "\n",
        "Q12. If you had a bacon() feature in a spam module, what would you call it after importing spam?\n",
        "\n",
        "ANS- This function can be called with spam.bacon() .\n",
        "\n",
        "Q13. What can you do to save a programme from crashing if it encounters an error?\n",
        "\n",
        "ANS- error handling can be used to notify the user of why the error occurred to save a programme from crashing if it encounters an error.\n",
        "\n",
        "Q14. What is the purpose of the try clause? What is the purpose of the except clause?\n",
        "\n",
        "ANS- The try block lets you test a block of code for errors. The except block lets you handle the error.\n",
        "\n"
      ],
      "metadata": {
        "id": "V66hvwyilaDz"
      }
    }
  ]
}