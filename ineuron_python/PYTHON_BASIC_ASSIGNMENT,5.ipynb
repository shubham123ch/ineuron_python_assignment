{
  "nbformat": 4,
  "nbformat_minor": 0,
  "metadata": {
    "colab": {
      "name": "PYTHON BASIC ASSIGNMENT,5.ipynb",
      "provenance": [],
      "collapsed_sections": []
    },
    "kernelspec": {
      "name": "python3",
      "display_name": "Python 3"
    },
    "language_info": {
      "name": "python"
    }
  },
  "cells": [
    {
      "cell_type": "markdown",
      "source": [
        "**SHUBHAM KUMAR CHATURVEDI (PYTHON BASIC ASSIGNMENT,5)**"
      ],
      "metadata": {
        "id": "P8CZvJNrwPkb"
      }
    },
    {
      "cell_type": "markdown",
      "source": [
        "Q1. What does an empty dictionary's code look like?\n",
        "\n",
        "ANS- Just placing to curly braces {}.\n",
        "\n",
        "Q2. What is the value of a dictionary value with the key 'foo' and the value 42?\n",
        "\n",
        "ANS- dic = {“foo” : 42}.\n",
        "\n",
        "Q3. What is the most significant distinction between a dictionary and a list?\n",
        "\n",
        "ANS - The items stored in a dictionary are unordered, while the items in a list are ordered.\n",
        "\n",
        "Q4. What happens if you try to access spam['foo'] if spam is {'bar': 100}?\n",
        "\n",
        "ANS - get a KeyError error.\n",
        "\n",
        "Q5. If a dictionary is stored in spam, what is the difference between the expressions 'cat' in spam and 'cat' in spam.keys()?\n",
        "\n",
        "ANS -There is no difference.\n",
        "\n",
        "Q6. If a dictionary is stored in spam, what is the difference between the expressions 'cat' in spam and 'cat' in spam.values()?\n",
        "\n",
        "ANS- 'cat' in spam checks whether there is a 'cat' key in the dictionary, while 'cat' in spam.values() checks whether there is a value 'cat' for one of the keys in spam.\n",
        "\n",
        "Q7. What is a shortcut for the following code?\n",
        "\n",
        "if 'color' not in spam:\n",
        "\n",
        "spam['color'] = 'black'\n",
        "\n",
        "ANS- spam.setdefault('color', 'black').\n",
        "\n",
        "Q8. How do you \"pretty print\" dictionary values using which module and function?\n",
        "\n",
        "ANS- pprint.pprint().\n",
        "\n"
      ],
      "metadata": {
        "id": "4dj0I2REs8px"
      }
    }
  ]
}