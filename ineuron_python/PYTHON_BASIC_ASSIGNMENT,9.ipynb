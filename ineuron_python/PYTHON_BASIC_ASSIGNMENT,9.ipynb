{
  "nbformat": 4,
  "nbformat_minor": 0,
  "metadata": {
    "colab": {
      "name": "PYTHON BASIC ASSIGNMENT,9.ipynb",
      "provenance": [],
      "collapsed_sections": []
    },
    "kernelspec": {
      "name": "python3",
      "display_name": "Python 3"
    },
    "language_info": {
      "name": "python"
    }
  },
  "cells": [
    {
      "cell_type": "markdown",
      "source": [
        "**SHUBHAM KUMAR CHATURVEDI (PYTHON BASIC ASSIGNMENT,9)**"
      ],
      "metadata": {
        "id": "pD3k3OOmUDT_"
      }
    },
    {
      "cell_type": "markdown",
      "source": [
        "Q1. To what does a relative path refer?\n",
        "\n",
        "ANS- The relative path is the path to some file with respect to your current working directory (PWD). For example: Absolute path: C:/users/admin/docs/stuff.txt.\n",
        "\n",
        "Q2. What does an absolute path start with your operating system?\n",
        "\n",
        "ANS- An absolute path refers to the complete details needed to locate a file or folder, starting from the root element, and ending with the other subdirectories. Absolute paths are used in websites and operating systems for locating files and folders.\n",
        "\n",
        "Q3. What do the functions os.getcwd() and os.chdir() do?\n",
        "\n",
        "ANS - os. getcwd() method tells us the location of current working directory (CWD). chdir() method in Python used to change the current working directory to specified path.\n",
        "\n",
        "Q4. What are the . and .. folders?\n",
        "\n",
        "ANS- The . is the current directory, while .. signifies the parent directory.\n",
        "\n",
        "Q5. In C:\\bacon\\eggs\\spam.txt, which part is the dir name, and which part is the base name?\n",
        "\n",
        "ANS – “C:\\bacon\\eggs\\” is a part of dir name and “spam.txt” is the base file name.\n",
        "\n",
        "Q6. What are the three “mode” arguments that can be passed to the open() function?\n",
        "\n",
        "ANS- r : Opens the file in read-only mode. \n",
        "rb : Opens the file as read-only in binary format and starts reading from the beginning of the file. \n",
        "r+ : Opens a file for reading and writing, placing the pointer at the beginning of the file.\n",
        "\n",
        "Q7. What happens if an existing file is opened in write mode?\n",
        "\n",
        "ANS- this will overwrite any existing file with the same name.\n",
        "\n",
        "Q8. How do you tell the difference between read() and readlines()?\n",
        "\n",
        "ANS-  read() will read the whole file at once and then print out the first characters that take up as many bytes as you specify in the parenthesis. readline() that will read and print out only the first characters that take up as many bytes as you specify in the parenthesis.\n",
        "\n",
        "Q9. What data structure does a shelf value resemble?\n",
        "\n",
        "ANS-A shelf value resembles a dictionary value. \n",
        "\n"
      ],
      "metadata": {
        "id": "ABj74pFsVKO2"
      }
    }
  ]
}