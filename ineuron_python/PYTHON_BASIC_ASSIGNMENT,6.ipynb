{
  "nbformat": 4,
  "nbformat_minor": 0,
  "metadata": {
    "colab": {
      "name": "PYTHON BASIC ASSIGNMENT,6.ipynb",
      "provenance": [],
      "collapsed_sections": []
    },
    "kernelspec": {
      "name": "python3",
      "display_name": "Python 3"
    },
    "language_info": {
      "name": "python"
    }
  },
  "cells": [
    {
      "cell_type": "markdown",
      "source": [
        "**SHUBHAM KUMAR CHATURVEDI (PYTHON BASIC ASSIGNMENT,6)**"
      ],
      "metadata": {
        "id": "QjTkgYoyzG0B"
      }
    },
    {
      "cell_type": "markdown",
      "source": [
        "Q1. What are escape characters, and how do you use them?\n",
        "\n",
        "ANS- An escape character is a backslash \\ followed by the character I want to insert. It is used in representing certain whitespace characters: \"\\t\" is a tab, \"\\n\" is a newline, and \"\\r\" is a carriage return.\n",
        "\n",
        "Q2. What do the escape characters n and t stand for?\n",
        "\n",
        "ANS- : \"\\t\" is a tab, \"\\n\" is a newline.\n",
        "\n",
        "Q3. What is the way to include backslash characters in a string?\n",
        "\n",
        "ANS-Use the syntax \"\\\\\" within the string literal to represent a single backslash.\n",
        "\n",
        "Q4. The string \"Howl's Moving Castle\" is a correct value. Why isn't the single quote character in the word Howl's not escaped a problem?\n",
        "\n",
        "ANS- because used double quotes to mark the beginning and end of the string.\n",
        "\n",
        "Q5. How do you write a string of newlines if you don't want to use the n character?\n",
        "ANS- Multiline strings allow to use newlines in strings in python.\n",
        "\n",
        "Q6.6. What are the values of the given expressions?\n",
        "\n"
      ],
      "metadata": {
        "id": "Rh1XXJj8xA9n"
      }
    },
    {
      "cell_type": "code",
      "source": [
        "'Hello, world!'[1]\n",
        "\n",
        "\n"
      ],
      "metadata": {
        "colab": {
          "base_uri": "https://localhost:8080/",
          "height": 35
        },
        "id": "QOxT8fCzxWyf",
        "outputId": "1cad87e8-1e00-4917-c8f3-3e525dc602e0"
      },
      "execution_count": 1,
      "outputs": [
        {
          "output_type": "execute_result",
          "data": {
            "application/vnd.google.colaboratory.intrinsic+json": {
              "type": "string"
            },
            "text/plain": [
              "'e'"
            ]
          },
          "metadata": {},
          "execution_count": 1
        }
      ]
    },
    {
      "cell_type": "code",
      "source": [
        "'Hello, world!'[0:5]\n"
      ],
      "metadata": {
        "colab": {
          "base_uri": "https://localhost:8080/",
          "height": 35
        },
        "id": "ah1masEexjAc",
        "outputId": "64ee90e9-f37a-4bae-f3f1-b56a06d43329"
      },
      "execution_count": 2,
      "outputs": [
        {
          "output_type": "execute_result",
          "data": {
            "application/vnd.google.colaboratory.intrinsic+json": {
              "type": "string"
            },
            "text/plain": [
              "'Hello'"
            ]
          },
          "metadata": {},
          "execution_count": 2
        }
      ]
    },
    {
      "cell_type": "code",
      "source": [
        "\n",
        "'Hello, world!'[:5]\n"
      ],
      "metadata": {
        "colab": {
          "base_uri": "https://localhost:8080/",
          "height": 35
        },
        "id": "QYrE6cjbxoqj",
        "outputId": "fea80782-1a51-40e3-d572-96ddecfe963a"
      },
      "execution_count": 3,
      "outputs": [
        {
          "output_type": "execute_result",
          "data": {
            "application/vnd.google.colaboratory.intrinsic+json": {
              "type": "string"
            },
            "text/plain": [
              "'Hello'"
            ]
          },
          "metadata": {},
          "execution_count": 3
        }
      ]
    },
    {
      "cell_type": "code",
      "source": [
        "\n",
        "'Hello, world!'[3:]\n"
      ],
      "metadata": {
        "colab": {
          "base_uri": "https://localhost:8080/",
          "height": 35
        },
        "id": "3m50d4GWxtjT",
        "outputId": "ac10ef96-5586-4cf2-b97c-a1236868c280"
      },
      "execution_count": 4,
      "outputs": [
        {
          "output_type": "execute_result",
          "data": {
            "application/vnd.google.colaboratory.intrinsic+json": {
              "type": "string"
            },
            "text/plain": [
              "'lo, world!'"
            ]
          },
          "metadata": {},
          "execution_count": 4
        }
      ]
    },
    {
      "cell_type": "markdown",
      "source": [
        "Q7. What are the values of the following expressions?\n",
        "\n"
      ],
      "metadata": {
        "id": "k57GRhh-x5Jn"
      }
    },
    {
      "cell_type": "code",
      "source": [
        "'Hello'.upper()\n"
      ],
      "metadata": {
        "colab": {
          "base_uri": "https://localhost:8080/",
          "height": 35
        },
        "id": "oP-75c3qyCCb",
        "outputId": "c1267920-f314-4efb-99c7-654ee29dd009"
      },
      "execution_count": 5,
      "outputs": [
        {
          "output_type": "execute_result",
          "data": {
            "application/vnd.google.colaboratory.intrinsic+json": {
              "type": "string"
            },
            "text/plain": [
              "'HELLO'"
            ]
          },
          "metadata": {},
          "execution_count": 5
        }
      ]
    },
    {
      "cell_type": "code",
      "source": [
        "'Hello'.upper().isupper()\n"
      ],
      "metadata": {
        "colab": {
          "base_uri": "https://localhost:8080/"
        },
        "id": "iku1LOkNyFIH",
        "outputId": "1340878c-1efc-48f3-adac-ee1c2ce069c9"
      },
      "execution_count": 6,
      "outputs": [
        {
          "output_type": "execute_result",
          "data": {
            "text/plain": [
              "True"
            ]
          },
          "metadata": {},
          "execution_count": 6
        }
      ]
    },
    {
      "cell_type": "code",
      "source": [
        "'Hello'.upper().lower()\n"
      ],
      "metadata": {
        "colab": {
          "base_uri": "https://localhost:8080/",
          "height": 35
        },
        "id": "kTIBSilsyMuJ",
        "outputId": "7811f424-7dde-4a25-cacf-5970f31c97ad"
      },
      "execution_count": 7,
      "outputs": [
        {
          "output_type": "execute_result",
          "data": {
            "application/vnd.google.colaboratory.intrinsic+json": {
              "type": "string"
            },
            "text/plain": [
              "'hello'"
            ]
          },
          "metadata": {},
          "execution_count": 7
        }
      ]
    },
    {
      "cell_type": "markdown",
      "source": [
        "Q8. What are the values of the following expressions?"
      ],
      "metadata": {
        "id": "jUo7LTv7yim5"
      }
    },
    {
      "cell_type": "code",
      "source": [
        "'Remember, remember, the fifth of July.'.split()"
      ],
      "metadata": {
        "colab": {
          "base_uri": "https://localhost:8080/"
        },
        "id": "3zrfTQ7oyj1I",
        "outputId": "10c22096-5ccf-4569-d29a-18c97e392514"
      },
      "execution_count": 8,
      "outputs": [
        {
          "output_type": "execute_result",
          "data": {
            "text/plain": [
              "['Remember,', 'remember,', 'the', 'fifth', 'of', 'July.']"
            ]
          },
          "metadata": {},
          "execution_count": 8
        }
      ]
    },
    {
      "cell_type": "code",
      "source": [
        "'-'.join('There can only one.'.split())"
      ],
      "metadata": {
        "colab": {
          "base_uri": "https://localhost:8080/",
          "height": 35
        },
        "id": "k_9y0Jsoywnq",
        "outputId": "07ea75ef-3e45-409b-e005-c59d48eb9423"
      },
      "execution_count": 9,
      "outputs": [
        {
          "output_type": "execute_result",
          "data": {
            "application/vnd.google.colaboratory.intrinsic+json": {
              "type": "string"
            },
            "text/plain": [
              "'There-can-only-one.'"
            ]
          },
          "metadata": {},
          "execution_count": 9
        }
      ]
    },
    {
      "cell_type": "markdown",
      "source": [
        "Q9. What are the methods for right-justifying, left-justifying, and centering a string?\n",
        "\n",
        "ANS- using  rjust(), ljust(), and center() string methods.\n",
        "\n",
        "Q10. What is the best way to remove whitespace characters from the start or end?\n",
        "\n",
        "ANS- lstrip() and rstrip() methods to remove whitespace from the left and right ends of a string.\n"
      ],
      "metadata": {
        "id": "TiYcWIgWzAQy"
      }
    }
  ]
}