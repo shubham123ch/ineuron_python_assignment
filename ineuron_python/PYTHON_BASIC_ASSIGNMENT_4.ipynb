{
  "nbformat": 4,
  "nbformat_minor": 0,
  "metadata": {
    "colab": {
      "name": "PYTHON BASIC ASSIGNMENT 4.ipynb",
      "provenance": [],
      "collapsed_sections": []
    },
    "kernelspec": {
      "name": "python3",
      "display_name": "Python 3"
    },
    "language_info": {
      "name": "python"
    }
  },
  "cells": [
    {
      "cell_type": "markdown",
      "source": [
        "**SHUBHAM KUMAR CHATURVEDI (PYTHON BASIC ASSIGNMENT 4,INEURON)**"
      ],
      "metadata": {
        "id": "5JRLCLHjoSDr"
      }
    },
    {
      "cell_type": "markdown",
      "source": [
        "Q1. What exactly is []?\n",
        "\n",
        "ANS- [] - Square brackets, but in python it is used as List symbol for e.g. spam = [1,2,3,].\n",
        "\n",
        "Q2. In a list of values stored in a variable called spam, how would you assign the value 'hello' as the third value? (Assume [2, 4, 6, 8, 10] are in spam.)\n",
        "\n",
        "ANS- spam = [2, 4, 6, 8, 10,”hello”].\n",
        "Let's pretend the spam includes the list ['a', 'b', 'c', 'd'] for the next three queries.\n",
        "\n",
        "Q3. What is the value of spam[int(int('3' * 2) / 11)]?\n",
        "\n",
        "ANS-3 (33/11)\n",
        "\n",
        "Q4. What is the value of spam[-1]?\n",
        "\n",
        "ANS- d\n",
        "\n",
        "Q5. What is the value of spam[:2]?\n",
        "\n",
        "ANS- ['a', 'b',]\n",
        "Let's pretend bacon has the list [3.14, 'cat,' 11, 'cat,' True] for the next three questions.\n",
        "\n",
        "Q6. What is the value of bacon.index('cat')?\n",
        "\n",
        "ANS- 1.\n",
        "\n",
        "Q7. How does bacon.append(99) change the look of the list value in bacon?\n",
        "\n",
        "ANS- [3.14, 'cat', 11, 'cat', True, 99]\n",
        "\n",
        "Q8. How does bacon.remove('cat') change the look of the list in bacon?\n",
        "\n",
        "ANS- [3.14, 11, 'cat', True]\n",
        "\n",
        "Q9. What are the list concatenation and list replication operators?\n",
        "\n",
        "ANS- The operator for list concatenation is +, while the operator for replication is *. (This is the same as for strings.)\n",
        "\n",
        "Q10. What is difference between the list methods append() and insert()?\n",
        "\n",
        "ANS- While append() will add values only to the end of a list, insert() can add them anywhere in the list.\n",
        "\n",
        "Q11. What are the two methods for removing items from a list?\n",
        "\n",
        "ANS- remove(), pop()\n",
        "\n",
        "Q12. Describe how list values and string values are identical.\n",
        "\n",
        "ANS-  Lists are similar to strings, which are ordered collections of characters, except that the elements of a list can have any type.\n",
        "\n",
        "Q13. What's the difference between tuples and lists?\n",
        "\n",
        "ANS- \n",
        "\n",
        "1\tLists are mutable\tTuples are immutable\n",
        "2\tImplication of iterations is Time-consuming\tThe implication of iterations is comparatively Faster\n",
        "3\tThe list is better for performing operations, such as insertion and deletion.\tTuple data type is appropriate for accessing the elements\n",
        "4\tLists consume more memory\tTuple consume less memory as compared to the list\n",
        "5\tLists have several built-in methods\tTuple does not have many built-in methods.\n",
        "6\tThe unexpected changes and errors are more likely to occur\tIn tuple, it is hard to take place.\n",
        "\n",
        "Q14.How do you type a tuple value that only contains the integer 42?"
      ],
      "metadata": {
        "id": "vok4Erq7rBiY"
      }
    },
    {
      "cell_type": "code",
      "source": [
        "\n",
        "SPAM = (42)\n",
        "type(SPAM)"
      ],
      "metadata": {
        "colab": {
          "base_uri": "https://localhost:8080/"
        },
        "outputId": "a67959d5-7276-4053-99b2-87de3dd5b568",
        "id": "ujTSySwJqxyW"
      },
      "execution_count": null,
      "outputs": [
        {
          "output_type": "execute_result",
          "data": {
            "text/plain": [
              "int"
            ]
          },
          "metadata": {},
          "execution_count": 3
        }
      ]
    },
    {
      "cell_type": "markdown",
      "source": [
        "Q15. How do you get a list value's tuple form? How do you get a tuple value's list form?\n",
        "\n",
        "ANS- List comprehension along with zip() function is used to convert the tuples to list and create a list of tuples. Python iter() function is used to iterate an element of an object at a time.\n",
        "\n",
        "Q16. Variables that \"contain\" list values are not necessarily lists themselves. Instead, what do they contain?\n",
        "\n",
        "ANS- Variables will contain references to list values rather than list values themselves. But for strings and integer values, variables simply contain the string or integer value.\n",
        "\n",
        "Q17. How do you distinguish between copy.copy() and copy.deepcopy()?\n",
        "\n",
        "ANS- In case of deep copy, a copy of object is copied in other object. Deep copy is a process in which the copying process occurs recursively.\n"
      ],
      "metadata": {
        "id": "5NTvla4_r0ea"
      }
    }
  ]
}