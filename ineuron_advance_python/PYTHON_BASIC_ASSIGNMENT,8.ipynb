{
  "nbformat": 4,
  "nbformat_minor": 0,
  "metadata": {
    "colab": {
      "name": "PYTHON BASIC ASSIGNMENT,8.ipynb",
      "provenance": [],
      "collapsed_sections": []
    },
    "kernelspec": {
      "name": "python3",
      "display_name": "Python 3"
    },
    "language_info": {
      "name": "python"
    }
  },
  "cells": [
    {
      "cell_type": "markdown",
      "source": [
        "**SHUBHAM KUMAR CHATURVEDI (PYTHON BASIC ASSIGNMENT,8)**"
      ],
      "metadata": {
        "id": "TH3cYLPLQDdc"
      }
    },
    {
      "cell_type": "markdown",
      "source": [
        "Q1. Is the Python Standard Library included with PyInputPlus?\n",
        "\n",
        "ANS- PyInputPlus is not a part of the Python Standard Library.\n",
        "\n",
        "Q2. Why is PyInputPlus commonly imported with import pyinputplus as pypi?\n",
        "\n",
        "ANS- so that you can enter a shorter name when calling the module's functions.\n",
        "\n",
        "Q3. How do you distinguish between inputInt() and inputFloat()?\n",
        "\n",
        "ANS- inputInt() : Accepts an integer value. \n",
        "inputFloat() : Accepts a floating-point numeric value.\n"
      ],
      "metadata": {
        "id": "suwFLI0KP79H"
      }
    },
    {
      "cell_type": "markdown",
      "source": [
        "Q4. Using PyInputPlus, how do you ensure that the user enters a whole number between 0 and 99?"
      ],
      "metadata": {
        "id": "REZT-uUgRjo-"
      }
    },
    {
      "cell_type": "code",
      "execution_count": 2,
      "metadata": {
        "colab": {
          "base_uri": "https://localhost:8080/"
        },
        "id": "qHYZAeDRP7X8",
        "outputId": "f4b52493-9968-4851-9769-bc63e69f08bf"
      },
      "outputs": [
        {
          "output_type": "stream",
          "name": "stdout",
          "text": [
            "Collecting pyinputplus\n",
            "  Downloading PyInputPlus-0.2.12.tar.gz (20 kB)\n",
            "  Installing build dependencies ... \u001b[?25l\u001b[?25hdone\n",
            "  Getting requirements to build wheel ... \u001b[?25l\u001b[?25hdone\n",
            "    Preparing wheel metadata ... \u001b[?25l\u001b[?25hdone\n",
            "Collecting stdiomask>=0.0.3\n",
            "  Downloading stdiomask-0.0.6.tar.gz (3.6 kB)\n",
            "  Installing build dependencies ... \u001b[?25l\u001b[?25hdone\n",
            "  Getting requirements to build wheel ... \u001b[?25l\u001b[?25hdone\n",
            "    Preparing wheel metadata ... \u001b[?25l\u001b[?25hdone\n",
            "Collecting pysimplevalidate>=0.2.7\n",
            "  Downloading PySimpleValidate-0.2.12.tar.gz (22 kB)\n",
            "  Installing build dependencies ... \u001b[?25l\u001b[?25hdone\n",
            "  Getting requirements to build wheel ... \u001b[?25l\u001b[?25hdone\n",
            "    Preparing wheel metadata ... \u001b[?25l\u001b[?25hdone\n",
            "Building wheels for collected packages: pyinputplus, pysimplevalidate, stdiomask\n",
            "  Building wheel for pyinputplus (PEP 517) ... \u001b[?25l\u001b[?25hdone\n",
            "  Created wheel for pyinputplus: filename=PyInputPlus-0.2.12-py3-none-any.whl size=11315 sha256=c7565b65f5b3b76aa975a8e1bd4c0450ceb9e9f565084df780f63bfbc1abfb2d\n",
            "  Stored in directory: /root/.cache/pip/wheels/e7/33/73/719f8f1bd984d39face880fd22f6c5ef1b85f726e84c687094\n",
            "  Building wheel for pysimplevalidate (PEP 517) ... \u001b[?25l\u001b[?25hdone\n",
            "  Created wheel for pysimplevalidate: filename=PySimpleValidate-0.2.12-py3-none-any.whl size=16193 sha256=a105267f5af1b6b198b67a6db05286b215b7142a943f20c505aaec6408215d70\n",
            "  Stored in directory: /root/.cache/pip/wheels/5a/8b/6c/2925d22b93860bdc9b8ce02c3d2cf79336606f7469cef66065\n",
            "  Building wheel for stdiomask (PEP 517) ... \u001b[?25l\u001b[?25hdone\n",
            "  Created wheel for stdiomask: filename=stdiomask-0.0.6-py3-none-any.whl size=3321 sha256=5760f144cd676ef2861c3db7890f51b5cf810d707aeca90440de415252e847f1\n",
            "  Stored in directory: /root/.cache/pip/wheels/cf/13/89/64d0d3b167759523f4c1e68f883bbc30e7bfa27050edeb418e\n",
            "Successfully built pyinputplus pysimplevalidate stdiomask\n",
            "Installing collected packages: stdiomask, pysimplevalidate, pyinputplus\n",
            "Successfully installed pyinputplus-0.2.12 pysimplevalidate-0.2.12 stdiomask-0.0.6\n",
            "Enter an Integer... 120\n",
            "Number must be less than 99.\n",
            "Enter an Integer... 89\n",
            "89\n"
          ]
        }
      ],
      "source": [
        "! pip install pyinputplus\n",
        "\n",
        "import pyinputplus as pyip\n",
        "np = pyip.inputInt(prompt = \"Enter an Integer... \",\n",
        "min = 0, lessThan = 99)\n",
        "print(np)\n"
      ]
    },
    {
      "cell_type": "markdown",
      "source": [
        "Q5. What is transferred to the keyword arguments allowRegexes and blockRegexes?\n",
        "\n",
        "ANS- allowRegexes and blockRegexes keyword arguments take a list of regular expression strings to determine what the PyInputPlus function will accept or reject .\n",
        "\n",
        "Q6. If a blank input is entered three times, what does inputStr(limit=3) do?\n",
        "\n",
        "ANS- InputStr() raises a TimeoutException exception. If the user answers incorrectly more than 3 times, it raises a RetryLimitException exception.\n"
      ],
      "metadata": {
        "id": "F6eQS-piScc1"
      }
    },
    {
      "cell_type": "markdown",
      "source": [
        "Q7. If blank input is entered three times, what does inputStr(limit=3, default='hello') do?\n",
        "\n",
        "ANS- It returns the value N/A to the variable.\n"
      ],
      "metadata": {
        "id": "f_SYhjXqTGvd"
      }
    },
    {
      "cell_type": "code",
      "source": [
        "\n",
        "import pyinputplus as pyip\n",
        "np = pyip.inputInt(prompt = \"Enter an Integer... \", limit=3, default='hello'\n",
        ")\n",
        "print(np)"
      ],
      "metadata": {
        "colab": {
          "base_uri": "https://localhost:8080/"
        },
        "id": "XyQkQNykTKZl",
        "outputId": "0aeafe78-596f-4e0e-cddd-321a2a962aea"
      },
      "execution_count": 3,
      "outputs": [
        {
          "output_type": "stream",
          "name": "stdout",
          "text": [
            "Enter an Integer... \n",
            "Blank values are not allowed.\n",
            "Enter an Integer... \n",
            "Blank values are not allowed.\n",
            "Enter an Integer... \n",
            "Blank values are not allowed.\n",
            "hello\n"
          ]
        }
      ]
    }
  ]
}