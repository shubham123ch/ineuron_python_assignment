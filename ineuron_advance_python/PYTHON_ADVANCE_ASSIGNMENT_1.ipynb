{
  "nbformat": 4,
  "nbformat_minor": 0,
  "metadata": {
    "colab": {
      "name": "PYTHON ADVANCE ASSIGNMENT 1.ipynb",
      "provenance": [],
      "collapsed_sections": []
    },
    "kernelspec": {
      "name": "python3",
      "display_name": "Python 3"
    },
    "language_info": {
      "name": "python"
    }
  },
  "cells": [
    {
      "cell_type": "markdown",
      "source": [
        "**SHUBHAM KUMAR CHATURVEDI(PYTHON ADVANCE ASSIGNMENT 1,INEURON)**\n",
        "\n",
        "\n",
        "\n",
        "\n",
        "\n"
      ],
      "metadata": {
        "id": "KwldJIGmxev_"
      }
    },
    {
      "cell_type": "markdown",
      "source": [
        "Q1. What is the purpose of Python's OOP?\n",
        "\n",
        "ANS-It aims to implement real-world entities like inheritance, polymorphisms, encapsulation, etc."
      ],
      "metadata": {
        "id": "ct2cQVrO0U90"
      }
    },
    {
      "cell_type": "markdown",
      "source": [
        "Q2. Where does an inheritance search look for an attribute?\n",
        "\n",
        "ANS-Inheritance is the capability of one class (child/derived/sub class) to derive or inherit the properties or attributes from some another class (parent/base class) ."
      ],
      "metadata": {
        "id": "Y9_6w0X4z_Bt"
      }
    },
    {
      "cell_type": "markdown",
      "source": [
        "Q3. How do you distinguish between a class object and an instance object?\n",
        "\n",
        "ANS- The class = the blue print. The Object is an actual thing that is built based on the 'blue print'."
      ],
      "metadata": {
        "id": "27NoD2Su0uaY"
      }
    },
    {
      "cell_type": "markdown",
      "source": [
        "Q4. What makes the first argument in a class’s method function special?\n",
        "\n",
        "ANS- The first argument of every class method, including init, is always a reference to the current instance of the class."
      ],
      "metadata": {
        "id": "1OumkIxR1gEw"
      }
    },
    {
      "cell_type": "markdown",
      "source": [
        "Q5. What is the purpose of the __init__ method?\n",
        "\n",
        "ANS- The __init__ method is similar to constructors in C++ and Java . Constructors are used to initialize the object's state."
      ],
      "metadata": {
        "id": "-cSPFTr_2fT6"
      }
    },
    {
      "cell_type": "markdown",
      "source": [
        "Q6. What is the process for creating a class instance?\n",
        "\n",
        "ANS- The first method __init__() is a special method, which is called class constructor or initialization method that Python calls when you create a new instance of this class. "
      ],
      "metadata": {
        "id": "z3av-5Ip2tBw"
      }
    },
    {
      "cell_type": "markdown",
      "source": [
        "Q7. What is the process for creating a class?\n",
        "\n",
        "ANS- Create a Class. To create a class, use the keyword class:\n",
        "Create Object. Now we can use the class named to create objects: \n",
        "The self Parameter.\n",
        "Modify Object Properties. "
      ],
      "metadata": {
        "id": "GPAiCOvD3ObB"
      }
    },
    {
      "cell_type": "markdown",
      "source": [
        "Q8. How would you define the superclasses of a class?\n",
        "\n",
        "ANS-The class from which a class inherits is called the parent or superclass. A class which inherits from a superclass is called a subclass, also called heir class or child class."
      ],
      "metadata": {
        "id": "wUMu__EQ4Cc8"
      }
    }
  ]
}