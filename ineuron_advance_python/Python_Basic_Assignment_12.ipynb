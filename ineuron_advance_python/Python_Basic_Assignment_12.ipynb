{
  "nbformat": 4,
  "nbformat_minor": 0,
  "metadata": {
    "colab": {
      "name": "Python Basic Assignment 12.ipynb",
      "provenance": [],
      "collapsed_sections": []
    },
    "kernelspec": {
      "name": "python3",
      "display_name": "Python 3"
    },
    "language_info": {
      "name": "python"
    }
  },
  "cells": [
    {
      "cell_type": "markdown",
      "source": [
        "**SHUBHAM KUMAR CHATURVEDI (Python BASIC Assignment 12,Ineuron)**"
      ],
      "metadata": {
        "id": "H73LhlExM3z0"
      }
    },
    {
      "cell_type": "markdown",
      "source": [
        "Q1. In what modes should the PdfFileReader() and PdfFileWriter() File objects will be opened?\n",
        "\n",
        "ANS - PdfFileReader() needs to be opened in read-binary mode by passing 'rb' as the second argument to open(). Likewise, the File object passed to PyPDF2. PdfFileWriter() needs to be opened in write-binary mode with 'wb'."
      ],
      "metadata": {
        "id": "MNoFdzdeNY1B"
      }
    },
    {
      "cell_type": "markdown",
      "source": [
        "Q2. From a PdfFileReader object, how do you get a Page object for page 5?\n",
        "\n"
      ],
      "metadata": {
        "id": "XZRd_e6NN1oa"
      }
    },
    {
      "cell_type": "code",
      "source": [
        "!pip install PyPDF2\n",
        "import PyPDF2\n",
        "minutesFile = open('/content/drive/MyDrive/DS1/GIT.pdf', 'rb')\n",
        "pdfReader = PyPDF2.PdfFileReader(minutesFile)\n",
        "page = pdfReader.getPage(5)\n",
        "print(page) \n",
        "\n",
        "minutesFile.close()\n",
        "   "
      ],
      "metadata": {
        "colab": {
          "base_uri": "https://localhost:8080/"
        },
        "id": "GkDQJdSWQtYk",
        "outputId": "ae623696-624d-4a6c-9110-d03d7d58fb94"
      },
      "execution_count": null,
      "outputs": [
        {
          "output_type": "stream",
          "name": "stdout",
          "text": [
            "Collecting PyPDF2\n",
            "  Downloading PyPDF2-1.26.0.tar.gz (77 kB)\n",
            "\u001b[?25l\r\u001b[K     |████▎                           | 10 kB 25.2 MB/s eta 0:00:01\r\u001b[K     |████████▌                       | 20 kB 31.8 MB/s eta 0:00:01\r\u001b[K     |████████████▊                   | 30 kB 36.1 MB/s eta 0:00:01\r\u001b[K     |█████████████████               | 40 kB 37.4 MB/s eta 0:00:01\r\u001b[K     |█████████████████████▏          | 51 kB 26.6 MB/s eta 0:00:01\r\u001b[K     |█████████████████████████▍      | 61 kB 29.8 MB/s eta 0:00:01\r\u001b[K     |█████████████████████████████▋  | 71 kB 28.3 MB/s eta 0:00:01\r\u001b[K     |████████████████████████████████| 77 kB 5.8 MB/s \n",
            "\u001b[?25hBuilding wheels for collected packages: PyPDF2\n",
            "  Building wheel for PyPDF2 (setup.py) ... \u001b[?25l\u001b[?25hdone\n",
            "  Created wheel for PyPDF2: filename=PyPDF2-1.26.0-py3-none-any.whl size=61102 sha256=4c1434f80a5ec4ed84aa958908435492256d8318bf2290b1ab5002b9a2c0756a\n",
            "  Stored in directory: /root/.cache/pip/wheels/80/1a/24/648467ade3a77ed20f35cfd2badd32134e96dd25ca811e64b3\n",
            "Successfully built PyPDF2\n",
            "Installing collected packages: PyPDF2\n",
            "Successfully installed PyPDF2-1.26.0\n",
            "{'/Type': '/Page', '/Parent': IndirectObject(9, 0), '/Resources': IndirectObject(239, 0), '/Contents': IndirectObject(240, 0), '/MediaBox': [0, 0, 612, 792], '/Annots': []}\n"
          ]
        }
      ]
    },
    {
      "cell_type": "markdown",
      "source": [
        "Q3.What PdfFileReader variable stores the number of pages in the PDF document?\n",
        "\n",
        "ANS- In the above case it is \"page\" variable. "
      ],
      "metadata": {
        "id": "Id1O3SCXXXqY"
      }
    },
    {
      "cell_type": "markdown",
      "source": [
        "Q4. If a PdfFileReader object’s PDF is encrypted with the password swordfish, what must you do before you can obtain Page objects from it?\n",
        "\n",
        "ANS- Inside that, we are first checking if the file is already encrypted or not. If it is not encrypted, we simply return an error message from there. Else, we first decrypt it using the password and iterate over each page of the PDF file and add it to the pdf_writer object created."
      ],
      "metadata": {
        "id": "aT7vw8LoYs_Y"
      }
    },
    {
      "cell_type": "markdown",
      "source": [
        "Q5. What methods do you use to rotate a page?\n",
        "\n",
        "ANS-page.rotateClockwise()"
      ],
      "metadata": {
        "id": "35RYEkrdadZQ"
      }
    },
    {
      "cell_type": "markdown",
      "source": [
        "Q6- What is the difference between a Run object and a Paragraph object?\n",
        "\n",
        "ANS- A run is the object most closely associated with inline content; text, pictures, and other items that are flowed between the block-item boundaries within a paragraph.\n",
        "\n",
        "Each Paragraph object also has a runs attribute that is a list of Run objects."
      ],
      "metadata": {
        "id": "9lbx6Uh9bMVq"
      }
    },
    {
      "cell_type": "markdown",
      "source": [
        "Q7.How do you obtain a list of Paragraph objects for a Document object that’s stored in a variable named doc?\n",
        "\n",
        "ANS -"
      ],
      "metadata": {
        "id": "kVQuHKxhcWIF"
      }
    },
    {
      "cell_type": "code",
      "source": [
        "!pip install python-docx\n",
        "# import the Document class\n",
        "# from the docx module\n",
        "from docx import Document\n",
        "\n",
        "\n",
        "# create an instance of a\n",
        "# word document we want to open\n",
        "doc = Document('/content/drive/MyDrive/DS1/Python/FSDSP/dataset/Assignment_12.docx')\n",
        "\n",
        "# print the list of paragraphs in the document\n",
        "print('List of paragraph objects:->>>')\n",
        "print(doc.paragraphs)\n",
        "\n",
        "\n",
        "# print the text in a paragraph\n",
        "print('\\nText in the paragraph:->>>')\n",
        "print(doc.paragraphs[0].text)\n"
      ],
      "metadata": {
        "colab": {
          "base_uri": "https://localhost:8080/"
        },
        "id": "hyzi6hMQeVey",
        "outputId": "16b0788d-94c9-4db0-ad8f-5ff3ac516b06"
      },
      "execution_count": null,
      "outputs": [
        {
          "output_type": "stream",
          "name": "stdout",
          "text": [
            "Requirement already satisfied: python-docx in /usr/local/lib/python3.7/dist-packages (0.8.11)\n",
            "Requirement already satisfied: lxml>=2.3.2 in /usr/local/lib/python3.7/dist-packages (from python-docx) (4.2.6)\n",
            "List of paragraph objects:->>>\n",
            "[<docx.text.paragraph.Paragraph object at 0x7fe8adea13d0>, <docx.text.paragraph.Paragraph object at 0x7fe8adea1090>, <docx.text.paragraph.Paragraph object at 0x7fe8adea1810>, <docx.text.paragraph.Paragraph object at 0x7fe8adea1850>, <docx.text.paragraph.Paragraph object at 0x7fe8adea1cd0>, <docx.text.paragraph.Paragraph object at 0x7fe8adea1e50>, <docx.text.paragraph.Paragraph object at 0x7fe8adea1690>, <docx.text.paragraph.Paragraph object at 0x7fe8adea1390>, <docx.text.paragraph.Paragraph object at 0x7fe8adea1bd0>, <docx.text.paragraph.Paragraph object at 0x7fe8adea1590>, <docx.text.paragraph.Paragraph object at 0x7fe8adea1450>, <docx.text.paragraph.Paragraph object at 0x7fe8adea1d50>, <docx.text.paragraph.Paragraph object at 0x7fe8adea1a90>]\n",
            "\n",
            "Text in the paragraph:->>>\n",
            "1. In what modes should the PdfFileReader() and PdfFileWriter() File objects will be opened?\n"
          ]
        }
      ]
    },
    {
      "cell_type": "markdown",
      "source": [
        "Q8.What type of object has bold, underline, italic, strike, and outline variables?\n",
        "\n",
        "ANS- character."
      ],
      "metadata": {
        "id": "GMeDjztTibZn"
      }
    },
    {
      "cell_type": "markdown",
      "source": [
        "Q9. What is the difference between False, True, and None for the bold variable?\n",
        "\n",
        "ANS - True and False are specific bool values.Don't use False as a value for a non-bool field.\n",
        "\n",
        "None is used as a generic placeholder when the value will be set later. It can be typed as Optional."
      ],
      "metadata": {
        "id": "SgE3MaHukmsv"
      }
    },
    {
      "cell_type": "markdown",
      "source": [
        "Q10. How do you create a Document object for a new Word document?\n",
        "\n",
        "ANS -  "
      ],
      "metadata": {
        "id": "XOEg7qD4NZnp"
      }
    },
    {
      "cell_type": "code",
      "source": [
        "from docx import Document\n",
        "\n",
        "document = Document()\n",
        "document.save('test.docx')"
      ],
      "metadata": {
        "id": "7UYlvynWULaV"
      },
      "execution_count": 9,
      "outputs": []
    },
    {
      "cell_type": "markdown",
      "source": [
        "Q11.How do you add a paragraph with the text 'Hello, there!' to a Document object stored in a variable named doc?\n",
        "\n",
        "ANS - "
      ],
      "metadata": {
        "id": "K8AlkL0DW5gY"
      }
    },
    {
      "cell_type": "code",
      "execution_count": 8,
      "metadata": {
        "id": "8KXTIj_9gxbW"
      },
      "outputs": [],
      "source": [
        "import docx\n",
        "\n",
        "doc = docx.Document()\n",
        "\n",
        "doc.add_paragraph(\"Hello,there!\")\n",
        "\n",
        "doc.save(\"/content/drive/MyDrive/DS1/Python/NewHelloDoc.docx\")\n",
        "\n",
        "\n",
        "\n",
        "\n"
      ]
    },
    {
      "cell_type": "markdown",
      "source": [
        "Q12.12. What integers represent the levels of headings available in Word documents?\n"
      ],
      "metadata": {
        "id": "6U3Sk8ER9sUe"
      }
    },
    {
      "cell_type": "markdown",
      "source": [
        "ANS- = Heading =\n",
        "\n",
        "== Subheading ==\n",
        "\n",
        "=== Level 3 ===\n",
        "\n",
        "==== Level 4 ====\n",
        "\n",
        "===== Level 5 ====="
      ],
      "metadata": {
        "id": "NWbNFdMz-jRM"
      }
    }
  ]
}