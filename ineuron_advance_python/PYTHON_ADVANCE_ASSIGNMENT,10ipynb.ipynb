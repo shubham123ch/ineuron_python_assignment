{
  "nbformat": 4,
  "nbformat_minor": 0,
  "metadata": {
    "colab": {
      "name": "PYTHON ADVANCE ASSIGNMENT,10ipynb",
      "provenance": [],
      "collapsed_sections": []
    },
    "kernelspec": {
      "name": "python3",
      "display_name": "Python 3"
    },
    "language_info": {
      "name": "python"
    }
  },
  "cells": [
    {
      "cell_type": "markdown",
      "source": [
        "**SHUBHAM KUMAR CHATURVEDI (PYTHON ADVANCE ASSIGNMENT,10)**"
      ],
      "metadata": {
        "id": "2b2f9XEyVzKw"
      }
    },
    {
      "cell_type": "markdown",
      "source": [
        "Q1. What is the difference between __getattr__ and __getattribute__?\n",
        "\n",
        "ANS -The main difference between __getattr__ and __getattribute__ is that if the attribute was not found by the usual way then __getattr__ is used.\n",
        "getattribute: Is used to retrieve an attribute from an instance."
      ],
      "metadata": {
        "id": "a9pchfpLWALv"
      }
    },
    {
      "cell_type": "markdown",
      "source": [
        "Q2. What is the difference between properties and descriptors?\n",
        "\n",
        "ANS -  Descriptors are a low-level mechanism that lets hook into an object's attributes being accessed. Properties are a high-level application of this; that is, properties are implemented using descriptors."
      ],
      "metadata": {
        "id": "RPK4bO-ZWzLz"
      }
    },
    {
      "cell_type": "markdown",
      "source": [
        "Q3. What are the key differences in functionality between __getattr__ and __getattribute__, as well as properties and descriptors?\n",
        "\n",
        "ANS -The main difference between getattr and getattribute is that if the attribute was not found by the usual way then getattr is used. getattribute: Is used to retrieve an attribute from an instance.\n",
        "\n",
        " Descriptors are a low-level mechanism that lets hook into an object's attributes being accessed. Properties are a high-level application of this; that is, properties are implemented using descriptors."
      ],
      "metadata": {
        "id": "qKRzNuWUXkTr"
      }
    }
  ]
}