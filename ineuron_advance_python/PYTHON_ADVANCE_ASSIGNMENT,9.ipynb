{
  "nbformat": 4,
  "nbformat_minor": 0,
  "metadata": {
    "colab": {
      "name": "PYTHON ADVANCE ASSIGNMENT,9.ipynb",
      "provenance": [],
      "collapsed_sections": []
    },
    "kernelspec": {
      "name": "python3",
      "display_name": "Python 3"
    },
    "language_info": {
      "name": "python"
    }
  },
  "cells": [
    {
      "cell_type": "markdown",
      "source": [
        "**SHUBHAM KUMAR CHATURVEDI (PYTHON ADVANCE ASSIGNMENT,9)**"
      ],
      "metadata": {
        "id": "qyE4xJl5OPfO"
      }
    },
    {
      "cell_type": "markdown",
      "source": [
        "Q1. In Python 3.X, what are the names and functions of string object types?\n",
        "\n",
        "ANS - splitlines() -\tSplit the lines at line boundaries.\n",
        "\n",
        "startswith()-\tReturns “True” if a string starts with the given prefix.\n",
        "\n",
        "strip() -\tReturns the string with both leading and trailing \n",
        "characters.\n",
        "\n",
        "swapcase()-Converts all uppercase characters to lowercase and vice versa.\n",
        "\n",
        "center() -\tReturns a centered string.\n",
        "\n",
        "count()\t-Returns the number of times a specified value occurs in a string.\n",
        "\n",
        "encode()-\tReturns an encoded version of the string.\n",
        "\n",
        "endswith() -Returns true if the string ends with the specified value.\n",
        "\n",
        "\n"
      ],
      "metadata": {
        "id": "xiw8iVNcObME"
      }
    },
    {
      "cell_type": "markdown",
      "source": [
        "Q2. How do the string forms in Python 3.X vary in terms of operations?\n",
        "\n",
        "ANS -  Python requires explicit encoding and decoding of strings into Unicode.Python scripts are assumed to be encoded in UTF-8, which is a standard Unicode encoding that supports non-ASCII characters."
      ],
      "metadata": {
        "id": "LC_Lhd4APntN"
      }
    },
    {
      "cell_type": "markdown",
      "source": [
        "Q3. In 3.X, how do you put non-ASCII Unicode characters in a string?\n",
        "\n",
        "ANS -Python requires explicit encoding and decoding of strings into Unicode.\n"
      ],
      "metadata": {
        "id": "E9O8YwAtU1zv"
      }
    },
    {
      "cell_type": "markdown",
      "source": [
        "Q4. In Python 3.X, what are the key differences between text-mode and binary-mode files?\n",
        "\n",
        "ANS- Binary file contains the data in the form of 0 and 1(series of binary values) and text files contains the data in the form of stream of characters.\n",
        "\n"
      ],
      "metadata": {
        "id": "EB7Z44r7RkbC"
      }
    },
    {
      "cell_type": "markdown",
      "source": [
        "Q5. How can you interpret a Unicode text file containing text encoded in a different encoding than your platform's default?\n",
        "\n",
        "ANS -\n",
        "decode() is a method specified in Strings in Python 2. This method is used to convert from one encoding scheme."
      ],
      "metadata": {
        "id": "YwrGV3I3SJFA"
      }
    },
    {
      "cell_type": "markdown",
      "source": [
        "Q6. What is the best way to make a Unicode text file in a particular encoding format?\n",
        "\n",
        "ANS - \n",
        "To include Unicode characters in your Python source code, use Unicode escape characters in the form \"\\u0123\" in string. "
      ],
      "metadata": {
        "id": "ImNdT_c7S3N_"
      }
    },
    {
      "cell_type": "markdown",
      "source": [
        "Q7. What qualifies ASCII text as a form of Unicode text?\n",
        "\n",
        "ANS -The first 128 Unicode code points represent the ASCII characters, which means that any ASCII text is also a UTF-8 text. UCS-2 uses two bytes (16 bits) for each character but can only encode the first 65,536 code points."
      ],
      "metadata": {
        "id": "oBUW1JRdTqtt"
      }
    },
    {
      "cell_type": "markdown",
      "source": [
        "Q8. How much of an effect does the change in string types in Python 3.X have on your code?\n",
        "\n",
        "ANS -In Python 2, strings are stored as ASCII by default. In Python 3, strings are stored as UNICODE by default. On the division of two integers, we get an integral value in Python 2."
      ],
      "metadata": {
        "id": "jrib3bfKUCJA"
      }
    },
    {
      "cell_type": "code",
      "execution_count": null,
      "metadata": {
        "id": "ervMFYIfOOwV"
      },
      "outputs": [],
      "source": [
        ""
      ]
    }
  ]
}