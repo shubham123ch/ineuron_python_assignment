{
  "nbformat": 4,
  "nbformat_minor": 0,
  "metadata": {
    "colab": {
      "name": "Untitled1.ipynb",
      "provenance": [],
      "collapsed_sections": []
    },
    "kernelspec": {
      "name": "python3",
      "display_name": "Python 3"
    },
    "language_info": {
      "name": "python"
    }
  },
  "cells": [
    {
      "cell_type": "markdown",
      "source": [
        "**SHUBHAM KUMAR CHATURVEDI (PYTHON BASIC ASSIGNMENT 3,INEURON)**"
      ],
      "metadata": {
        "id": "Uq2wVDYfSnYf"
      }
    },
    {
      "cell_type": "markdown",
      "source": [
        "Q1. What is the concept of an abstract superclass?\n",
        "\n",
        "ANS- A class is called an Abstract class if it contains one or more abstract methods. An abstract method is a method that is declared, but contains no implementation. Abstract classes may not be instantiated, and its abstract methods must be implemented by its subclasses."
      ],
      "metadata": {
        "id": "fT0Cv758SURH"
      }
    },
    {
      "cell_type": "markdown",
      "source": [
        "Q2. What happens when a class statement's top level contains a basic assignment statement?\n",
        "\n",
        "ANS- Top-level definitions include variable (and constant), function and class definitions. The semantics are similar to the assignment statement.\n",
        "\n",
        "\n",
        "\n",
        "\n"
      ],
      "metadata": {
        "id": "6pfdUywXS7yW"
      }
    },
    {
      "cell_type": "markdown",
      "source": [
        "\n",
        "Q3. Why does a class need to manually call a superclass's __init__ method?\n",
        "\n",
        "ANS-The main reason for always calling base class _init__ is that base class may typically create member variable and initialize them to defaults. So if you don't call base class init, none of that code would be executed and you would end up with base class that has no member variables.\n",
        "\n"
      ],
      "metadata": {
        "id": "y0tv-SPIWfnq"
      }
    },
    {
      "cell_type": "markdown",
      "source": [
        "Q4. How can you augment, instead of completely replacing, an inherited method?\n",
        "\n",
        "ANS- Instead of replacing  by the inheritance search rule applied to the method's name.\n",
        "\n"
      ],
      "metadata": {
        "id": "dcbKs2WAXlcS"
      }
    },
    {
      "cell_type": "markdown",
      "source": [
        "ANS-Declaring a variable inside a function inside a class only that function can access it (its in that functions scope) if the variable is declared without self then it is accessible within that function only."
      ],
      "metadata": {
        "id": "ENVR2Ms8aIEi"
      }
    }
  ]
}