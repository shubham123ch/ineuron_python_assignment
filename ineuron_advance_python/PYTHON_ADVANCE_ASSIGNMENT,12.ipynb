{
  "nbformat": 4,
  "nbformat_minor": 0,
  "metadata": {
    "colab": {
      "name": "PYTHON ADVANCE ASSIGNMENT,12.ipynb",
      "provenance": [],
      "collapsed_sections": []
    },
    "kernelspec": {
      "name": "python3",
      "display_name": "Python 3"
    },
    "language_info": {
      "name": "python"
    }
  },
  "cells": [
    {
      "cell_type": "markdown",
      "source": [
        "**SHUBHAM KUMAR CHATURVEDI (PYTHON ADVANCE ASSIGNMENT,12)**"
      ],
      "metadata": {
        "id": "9cjgpvcE0fAV"
      }
    },
    {
      "cell_type": "markdown",
      "source": [
        "Q1. Does assigning a value to a string's indexed character violate Python's string immutability?\n",
        "\n",
        "ANS -Strings are immutable. This means that once defined, they cannot be changed. Many Python methods, such as replace , join , or split modify strings. However, they do not modify the original string."
      ],
      "metadata": {
        "id": "wpSMCXt20uGZ"
      }
    },
    {
      "cell_type": "markdown",
      "source": [
        "Q2. Does using the += operator to concatenate strings violate Python's string immutability? Why or why not?\n",
        "\n",
        "ANS -Concatenate strings and numbers: + , += operator, str() , format() , f-string.to concatenate a number, such as an integer int or a floating point float , with a string, convert the number to a string with str() and then use the + operator or += operator."
      ],
      "metadata": {
        "id": "29ITzzy41yJf"
      }
    },
    {
      "cell_type": "markdown",
      "source": [
        "\n",
        "Q3. In Python, how many different ways are there to index a character?\n",
        "\n",
        "ANS - string can be accessed by specifying the string name followed by a number in square brackets ( [] ). String indexing in Python is zero-based: the first character in the string has index 0 , the next has index 1 , and so on.\n"
      ],
      "metadata": {
        "id": "OZBvjPVT3U_9"
      }
    },
    {
      "cell_type": "markdown",
      "source": [
        "Q4. What is the relationship between indexing and slicing?\n",
        "\n",
        "ANS - “Indexing” means referring to an element of an iterable by its position within the iterable. “Slicing” means getting a subset of elements from an iterable based on their indices."
      ],
      "metadata": {
        "id": "qCo7E2Bg4SqE"
      }
    },
    {
      "cell_type": "markdown",
      "source": [
        "Q5. What is an indexed character's exact data type? What is the data form of a slicing-generated substring?\n",
        "\n",
        "ANS - Depending on what we are doing, we may want to treat a compound data type as a single . The bracket operator selects a single character from a string."
      ],
      "metadata": {
        "id": "GUFT9WiL4jpE"
      }
    },
    {
      "cell_type": "markdown",
      "source": [
        "Q6. What is the relationship between string and character \"types\" in Python?\n",
        "\n",
        "ANS - Character and String is that Character refers to a single letter, number, space, punctuation mark or a symbol that can be represented using a computer while String refers to a set of characters."
      ],
      "metadata": {
        "id": "q3_CWr_n5gix"
      }
    },
    {
      "cell_type": "markdown",
      "source": [
        "\n",
        "Q7. Identify at least two operators and one method that allow you to combine one or more smaller strings to create a larger string.\n",
        "\n",
        "ANS -\n"
      ],
      "metadata": {
        "id": "zex9lnNX5uT5"
      }
    },
    {
      "cell_type": "code",
      "source": [
        "import operator\n",
        "largeString = reduce(operator.add, pieces, '')\n",
        "\n",
        "largeString = small1 + small2 + ' something ' + small3 + ' yet more'\n",
        "\n",
        "largeString = ''\n",
        "for piece in pieces:\n",
        "    largeString += piece\n",
        "\n"
      ],
      "metadata": {
        "colab": {
          "base_uri": "https://localhost:8080/",
          "height": 235
        },
        "id": "yowG2pSu6w2S",
        "outputId": "2398a60c-8de9-4736-8251-be8cdc93ebd5"
      },
      "execution_count": null,
      "outputs": [
        {
          "output_type": "error",
          "ename": "NameError",
          "evalue": "ignored",
          "traceback": [
            "\u001b[0;31m---------------------------------------------------------------------------\u001b[0m",
            "\u001b[0;31mNameError\u001b[0m                                 Traceback (most recent call last)",
            "\u001b[0;32m<ipython-input-1-8d339d206b1e>\u001b[0m in \u001b[0;36m<module>\u001b[0;34m()\u001b[0m\n\u001b[1;32m      1\u001b[0m \u001b[0;32mimport\u001b[0m \u001b[0moperator\u001b[0m\u001b[0;34m\u001b[0m\u001b[0;34m\u001b[0m\u001b[0m\n\u001b[0;32m----> 2\u001b[0;31m \u001b[0mlargeString\u001b[0m \u001b[0;34m=\u001b[0m \u001b[0mreduce\u001b[0m\u001b[0;34m(\u001b[0m\u001b[0moperator\u001b[0m\u001b[0;34m.\u001b[0m\u001b[0madd\u001b[0m\u001b[0;34m,\u001b[0m \u001b[0mpieces\u001b[0m\u001b[0;34m,\u001b[0m \u001b[0;34m''\u001b[0m\u001b[0;34m)\u001b[0m\u001b[0;34m\u001b[0m\u001b[0;34m\u001b[0m\u001b[0m\n\u001b[0m\u001b[1;32m      3\u001b[0m \u001b[0;34m\u001b[0m\u001b[0m\n\u001b[1;32m      4\u001b[0m \u001b[0mlargeString\u001b[0m \u001b[0;34m=\u001b[0m \u001b[0msmall1\u001b[0m \u001b[0;34m+\u001b[0m \u001b[0msmall2\u001b[0m \u001b[0;34m+\u001b[0m \u001b[0;34m' something '\u001b[0m \u001b[0;34m+\u001b[0m \u001b[0msmall3\u001b[0m \u001b[0;34m+\u001b[0m \u001b[0;34m' yet more'\u001b[0m\u001b[0;34m\u001b[0m\u001b[0;34m\u001b[0m\u001b[0m\n\u001b[1;32m      5\u001b[0m \u001b[0;34m\u001b[0m\u001b[0m\n",
            "\u001b[0;31mNameError\u001b[0m: name 'reduce' is not defined"
          ]
        }
      ]
    },
    {
      "cell_type": "markdown",
      "source": [
        "Q8. What is the benefit of first checking the target string with in or not in before using the index method to find a substring?\n",
        "\n",
        "ANS-  Use str.index(). The first occurrence of a substring in a string is the index counting from 0 in the target string."
      ],
      "metadata": {
        "id": "1pd6RqzF7LZa"
      }
    },
    {
      "cell_type": "markdown",
      "source": [
        "Q9. Which operators and built-in string methods produce simple Boolean (true/false) results?\n",
        "\n",
        "ANS -Python boolean type is one of the built-in data types provided by Boolean Operations are simple arithmetic of True and False values."
      ],
      "metadata": {
        "id": "mBglVmca89ch"
      }
    }
  ]
}