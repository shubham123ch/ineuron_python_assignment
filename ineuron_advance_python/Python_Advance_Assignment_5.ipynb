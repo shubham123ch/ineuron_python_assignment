{
  "nbformat": 4,
  "nbformat_minor": 0,
  "metadata": {
    "colab": {
      "name": "Python Advance Assignment 5.ipynb",
      "provenance": [],
      "collapsed_sections": []
    },
    "kernelspec": {
      "name": "python3",
      "display_name": "Python 3"
    },
    "language_info": {
      "name": "python"
    }
  },
  "cells": [
    {
      "cell_type": "markdown",
      "source": [
        "**SHUBHAM KUMAR CHATURVEDI (Python Advance Assignment 5,Ineuron)**"
      ],
      "metadata": {
        "id": "JGZGaUSe-T3G"
      }
    },
    {
      "cell_type": "markdown",
      "source": [
        "Q1. What is the meaning of multiple inheritance?\n",
        "\n",
        "ANS -When a class is derived from more than one base class it is called multiple Inheritance. The derived class inherits all the features of the base case."
      ],
      "metadata": {
        "id": "nlR3-tZc-iid"
      }
    },
    {
      "cell_type": "markdown",
      "source": [
        "Q2. What is the concept of delegation?\n",
        "\n",
        "ANS -The delegation pattern is an object-oriented design pattern that allows object composition to achieve the same code reuse as inheritance."
      ],
      "metadata": {
        "id": "PmkAuY6U--QH"
      }
    },
    {
      "cell_type": "markdown",
      "source": [
        "Q3. What is the concept of composition?\n",
        "\n",
        "\n",
        "ANS - A class Composite can contain an object of another class Component . This relationship means that a Composite Component (composition) ."
      ],
      "metadata": {
        "id": "ofdo4D32_ab5"
      }
    },
    {
      "cell_type": "markdown",
      "source": [
        "Q4. What are bound methods and how do we use them?\n",
        "\n",
        "ANS -A bound method is the one which is dependent on the instance of the class as the first argument. It passes the instance as the first argument which is used to access the variables and functions."
      ],
      "metadata": {
        "id": "KAK7MvrXAI45"
      }
    },
    {
      "cell_type": "markdown",
      "source": [
        "Q5. What is the purpose of pseudoprivate attributes?\n",
        "ANS -Pseudoprivate attributes are  useful in new method in the class to reduce the chance of internal methods being replaced by names defined lower in the method."
      ],
      "metadata": {
        "id": "MCJJScgLAmFp"
      }
    }
  ]
}