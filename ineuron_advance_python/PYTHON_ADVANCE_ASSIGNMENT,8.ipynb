{
  "nbformat": 4,
  "nbformat_minor": 0,
  "metadata": {
    "colab": {
      "name": "PYTHON ADVANCE ASSIGNMENT,8.ipynb",
      "provenance": [],
      "collapsed_sections": []
    },
    "kernelspec": {
      "name": "python3",
      "display_name": "Python 3"
    },
    "language_info": {
      "name": "python"
    }
  },
  "cells": [
    {
      "cell_type": "markdown",
      "source": [
        "**SHUBHAM KUMAR CHATURVEDI(PYTHON ADVANCE ASSIGNMENT,8)**"
      ],
      "metadata": {
        "id": "xy3nbun0m6e4"
      }
    },
    {
      "cell_type": "markdown",
      "source": [
        "Q1. What are the two latest user-defined exception constraints in Python 3.X?\n",
        "\n",
        "ANS - IndexError, ImportError, IOError, ZeroDivisionError, TypeError, and FileNotFoundError are prebuilt exception. A user can also create his own error using the exception class.\n"
      ],
      "metadata": {
        "id": "gwB6ksIKnJfs"
      }
    },
    {
      "cell_type": "markdown",
      "source": [
        "Q2. How are class-based exceptions that have been raised matched to handlers?\n",
        "\n",
        "ANS -These exceptions are defined by exception classes, from which an exception object can be created when an exception is raised.The handler should contain some code to resolve the error: to repair it, to abort some procedures or to end processing of the whole program."
      ],
      "metadata": {
        "id": "y7aB2mOUnbh1"
      }
    },
    {
      "cell_type": "markdown",
      "source": [
        "Q3. Describe two methods for attaching context information to exception artefacts.\n",
        "\n",
        "ANS -The __cause__ AND __traceback__"
      ],
      "metadata": {
        "id": "zFybYi_boWP_"
      }
    },
    {
      "cell_type": "markdown",
      "source": [
        "\n",
        "Q4. Describe two methods for specifying the text of an exception object's error message.\n",
        "\n",
        "ANS - sys. exc_info() AND logging.Logger('')"
      ],
      "metadata": {
        "id": "5n7AV6mdpilg"
      }
    },
    {
      "cell_type": "markdown",
      "source": [
        "Q5. Why do you no longer use string-based exceptions?\n",
        "\n",
        "ANS - Python's standard exceptions (IOError, TypeError, etc.) were defined as strings.Because it is possible (although unlikely) that this change broke existing code."
      ],
      "metadata": {
        "id": "GYHkOk44qf2z"
      }
    }
  ]
}