{
  "nbformat": 4,
  "nbformat_minor": 0,
  "metadata": {
    "colab": {
      "name": "Untitled1.ipynb",
      "provenance": [],
      "collapsed_sections": []
    },
    "kernelspec": {
      "name": "python3",
      "display_name": "Python 3"
    },
    "language_info": {
      "name": "python"
    }
  },
  "cells": [
    {
      "cell_type": "markdown",
      "source": [
        "**SHUBHAM KUMAR CHATURVEDI (PYTHON ADVANCE ASSIGNMENT 2,INEURON)**"
      ],
      "metadata": {
        "id": "yQXf6GLhFH9B"
      }
    },
    {
      "cell_type": "markdown",
      "source": [
        "Q1. What is the relationship between classes and modules?\n",
        "\n",
        "ANS-  A class is used to define a blueprint for a given object, whereas a module is used to reuse a given piece of code inside another program."
      ],
      "metadata": {
        "id": "IMJqsvAHD1Xr"
      }
    },
    {
      "cell_type": "markdown",
      "source": [
        "Q2. How do you make instances and classes?\n",
        "\n",
        "ANS- To create instances of a class, you call the class using class name and pass in whatever arguments its __init__ method accepts."
      ],
      "metadata": {
        "id": "mW84VBQeFezm"
      }
    },
    {
      "cell_type": "markdown",
      "source": [
        "Q3. Where and how should be class attributes created?\n",
        "\n",
        "ANS- Inside a class, We should qualify all references to class attributes with the class name."
      ],
      "metadata": {
        "id": "F1y-J0DXHf4H"
      }
    },
    {
      "cell_type": "markdown",
      "source": [
        "Q4. Where and how are instance attributes created?\n",
        "\n",
        "ANS- This  is only accessible in the scope of this object and it is defined inside the constructor function, __init__(self,..) of the class."
      ],
      "metadata": {
        "id": "9X_chQXmIPQu"
      }
    },
    {
      "cell_type": "markdown",
      "source": [
        "Q5. What does the term \"self\" in a Python class mean?\n",
        "\n",
        "ANS- Self represents the instance of the class. By using the “self” keyword we can access the attributes and methods of the class in python. It binds the attributes with the given arguments."
      ],
      "metadata": {
        "id": "Lc2YIOhNI-7y"
      }
    },
    {
      "cell_type": "markdown",
      "source": [
        "Q6. How does a Python class handle operator overloading?\n",
        "\n",
        "\n",
        "ANS-we use + operator, the magic method __add__ is automatically invoked in which the operation for + operator is defined."
      ],
      "metadata": {
        "id": "J6B3SihnJVDw"
      }
    },
    {
      "cell_type": "markdown",
      "source": [
        "Q7. When do you consider allowing operator overloading of your classes?\n",
        "\n",
        "ANS- Consider that we have two objects which are a physical representation of a class (user-defined data type) and we have to add two objects with binary '+' operator it throws an error, because compiler don't know how to add two objects. So we define a method for an operator and that process is called operator overloading."
      ],
      "metadata": {
        "id": "FaSfIbspLmeF"
      }
    },
    {
      "cell_type": "markdown",
      "source": [
        "Q8. What is the most popular form of operator overloading?\n",
        "\n",
        "\n",
        "\n",
        "ANS- A very popular and convenient example is the Addition (+) operator."
      ],
      "metadata": {
        "id": "wzqnodcMMG8Q"
      }
    },
    {
      "cell_type": "markdown",
      "source": [
        "Q9. What are the two most important concepts to grasp in order to comprehend Python OOP code?\n",
        "\n",
        "ANS - There are four fundamental concepts of Object-oriented programming – Inheritance, Encapsulation, Polymorphism, and Data abstraction."
      ],
      "metadata": {
        "id": "67NhT7TAMPyh"
      }
    }
  ]
}