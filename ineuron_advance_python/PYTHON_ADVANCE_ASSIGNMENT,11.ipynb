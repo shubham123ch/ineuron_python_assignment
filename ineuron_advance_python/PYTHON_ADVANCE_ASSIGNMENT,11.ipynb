{
  "nbformat": 4,
  "nbformat_minor": 0,
  "metadata": {
    "colab": {
      "name": "PYTHON ADVANCE ASSIGNMENT,11.ipynb",
      "provenance": [],
      "collapsed_sections": []
    },
    "kernelspec": {
      "name": "python3",
      "display_name": "Python 3"
    },
    "language_info": {
      "name": "python"
    }
  },
  "cells": [
    {
      "cell_type": "markdown",
      "source": [
        "**SHUBHAM KUMAR CHATURVEDI (PYTHON ADVANCE ASSIGNMENT,11)**"
      ],
      "metadata": {
        "id": "5tlWLGuXYVGt"
      }
    },
    {
      "cell_type": "markdown",
      "source": [
        "Q1. What is the concept of a metaclass?\n",
        "\n",
        "ANS - A metaclass defines the behavior of certain classes and their instances."
      ],
      "metadata": {
        "id": "_dUDULEVYmiN"
      }
    },
    {
      "cell_type": "markdown",
      "source": [
        "Q2. What is the best way to declare a class's metaclass?\n",
        "\n",
        "ANS - \n",
        "The method that custom metaclasses should implement is the __new__ method."
      ],
      "metadata": {
        "id": "WwiMG-jJZFrm"
      }
    },
    {
      "cell_type": "markdown",
      "source": [
        "Q3. How do class decorators overlap with metaclasses for handling classes?\n",
        "\n",
        "ANS -The decorator returns the original class, instances are made from it, not from a wrapper object. In fact, instance creation is not intercepted at all. Decorators can be used to manage both instances and classes, and they intersect with metaclasses in the second of these roles."
      ],
      "metadata": {
        "id": "Vp4S82pTZm4N"
      }
    },
    {
      "cell_type": "markdown",
      "source": [
        "Q4. How do class decorators overlap with metaclasses for handling instances?\n",
        "\n",
        "ANS - The decorator returns the original class, instances are made from it, not from a wrapper object. In fact, instance creation is not intercepted at all."
      ],
      "metadata": {
        "id": "sHR_gc7faiFo"
      }
    }
  ]
}