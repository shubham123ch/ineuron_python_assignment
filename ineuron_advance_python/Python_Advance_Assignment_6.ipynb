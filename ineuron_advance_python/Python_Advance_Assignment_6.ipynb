{
  "nbformat": 4,
  "nbformat_minor": 0,
  "metadata": {
    "colab": {
      "name": "Python Advance Assignment 6.ipynb",
      "provenance": [],
      "collapsed_sections": []
    },
    "kernelspec": {
      "name": "python3",
      "display_name": "Python 3"
    },
    "language_info": {
      "name": "python"
    }
  },
  "cells": [
    {
      "cell_type": "markdown",
      "source": [
        "**SHUBHAM KUMAR CHATURVEDI (Python Advance Assignment 6,Ineuron)**"
      ],
      "metadata": {
        "id": "swOcPLhSBrCd"
      }
    },
    {
      "cell_type": "markdown",
      "source": [
        "Q1. Describe three applications for exception processing.\n",
        "\n",
        "ANS -ImportError -\tRaised when the imported module is not found.\n",
        "\n",
        "IndexError -\tRaised when the index of a sequence is out of range.\n",
        "\n",
        "KeyError -Raised when a key is not found in a dictionary."
      ],
      "metadata": {
        "id": "P4jhOPHXB4c6"
      }
    },
    {
      "cell_type": "markdown",
      "source": [
        "Q2. What happens if you don't do something extra to treat an exception?\n",
        "\n",
        "\n",
        "ANS - When an exception occurred, if you don't handle it, the program terminates abruptly and the code past the line that caused the exception will not get executed."
      ],
      "metadata": {
        "id": "JFtOu2eNDDvc"
      }
    },
    {
      "cell_type": "markdown",
      "source": [
        "Q3. What are your options for recovering from an exception in your script?\n",
        "\n",
        "ANS -The except block is executed when an exception occurs within the try block. The optional else block is executed only if there were no exceptions after try and before finally ."
      ],
      "metadata": {
        "id": "ideQjn5yEMqE"
      }
    },
    {
      "cell_type": "markdown",
      "source": [
        "Q4. Describe two methods for triggering exceptions in your script.\n",
        "\n",
        "ANS -Try – This method catches the exceptions raised by the program. Raise – Triggers an exception manually using custom exceptions."
      ],
      "metadata": {
        "id": "wGb0yxKtExHj"
      }
    },
    {
      "cell_type": "markdown",
      "source": [
        "Q5.Identify two methods for specifying actions to be executed at termination time, regardless of whether or not an exception exists.\n",
        "\n",
        "ANS- Python uses try and except keywords to handle exceptions."
      ],
      "metadata": {
        "id": "9ABIu8jRG8yr"
      }
    }
  ]
}