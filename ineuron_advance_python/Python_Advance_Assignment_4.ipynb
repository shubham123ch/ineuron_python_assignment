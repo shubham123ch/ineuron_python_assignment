{
  "nbformat": 4,
  "nbformat_minor": 0,
  "metadata": {
    "colab": {
      "name": "Python Advance Assignment 4.ipynb",
      "provenance": [],
      "collapsed_sections": []
    },
    "kernelspec": {
      "name": "python3",
      "display_name": "Python 3"
    },
    "language_info": {
      "name": "python"
    }
  },
  "cells": [
    {
      "cell_type": "markdown",
      "source": [
        "**SHUBHAM KUMAR CHATURVEDI (Python Advance Assignment 4,Ineuron)**"
      ],
      "metadata": {
        "id": "ArQnhVNz35wi"
      }
    },
    {
      "cell_type": "markdown",
      "source": [
        "Q1. Which two operator overloading methods can you use in your classes to support iteration?\n",
        "\n",
        "\n",
        "ANS- The __iter__ returns the iterator object and is implicitly called at the start of loops. The __next__ method returns the next value and is implicitly called at each loop increment."
      ],
      "metadata": {
        "id": "JiOkXY6V4OG9"
      }
    },
    {
      "cell_type": "markdown",
      "source": [
        "Q2. In what contexts do the two operator overloading methods manage printing?\n",
        "\n",
        "ANS- Operator overloading is the ability of a single operator to perform more than one operation based on the class (type) of operands."
      ],
      "metadata": {
        "id": "mm2fRK6r4qXd"
      }
    },
    {
      "cell_type": "markdown",
      "source": [
        "Q3. In a class, how do you intercept slice operations?\n",
        "\n",
        "ANS- What is slicing operator in python?\n",
        "The slice operator [n:m] returns the part of the string starting with the character at index n and go up to but not including the character at index m.  OR\n",
        "\n",
        "The slice() method returns a portion of an iterable as an object of the slice class based on the specified range. It can be used with string, list, tuple,etc.\n"
      ],
      "metadata": {
        "id": "g40sQx4w8AFk"
      }
    },
    {
      "cell_type": "markdown",
      "source": [
        "Q4. In a class, how do you capture in-place addition?\n",
        "\n",
        "\n",
        "ANS- iadd(),This function is used to assign the current value and add them."
      ],
      "metadata": {
        "id": "rD2YgxU9875a"
      }
    },
    {
      "cell_type": "markdown",
      "source": [
        "Q5. When is it appropriate to use operator overloading?\n",
        "\n",
        "ANS- Operator overloading is mostly useful when  making a new class that falls into an existing \"Abstract Base Class\" (ABC) "
      ],
      "metadata": {
        "id": "Y2fWig6-9oZq"
      }
    }
  ]
}